{
 "cells": [
  {
   "cell_type": "markdown",
   "id": "c584242c-6dcf-4ebf-b39e-5316cf356e95",
   "metadata": {},
   "source": [
    "**Contains Duplicate**<br> Given an integer array nums, return true if any value appears at least twice in the array, and return false if every element is distinct.<br>\n",
    "**Example 1:**\n",
    "<br>\n",
    "Input: nums = [1,2,3,1]<br>\n",
    "Output: true<br>\n",
    "**Example 2:**\n",
    "<br>\n",
    "Input: nums = [1,2,3,4]<br>\n",
    "**Example 3:**\n",
    "<br>\n",
    "Input: nums = [1,1,1,3,3,4,3,2,4,2]<br>\n",
    "Output: true<br>\n",
    "**Constraints:** <br>\n",
    "1 <= nums.length <= 105<br>\n",
    "-109 <= nums[i] <= 109"
   ]
  },
  {
   "cell_type": "code",
   "execution_count": 1,
   "id": "6746cbd8-3a44-409b-8f6b-0ff9fba589c4",
   "metadata": {},
   "outputs": [],
   "source": [
    "class FindDuplicate:\n",
    "    def check_duplicate(self, list_of_integer):\n",
    "        temp_list = set()\n",
    "        for item in list_of_integer:\n",
    "            if item in temp_list:\n",
    "                return True\n",
    "            temp_list.add(item)\n",
    "        return False"
   ]
  },
  {
   "cell_type": "code",
   "execution_count": 8,
   "id": "62a7d45e-f871-4cd8-9a95-42d107c46f5a",
   "metadata": {},
   "outputs": [
    {
     "name": "stdout",
     "output_type": "stream",
     "text": [
      "True\n",
      "False\n"
     ]
    }
   ],
   "source": [
    "case1 = [1,2,3,4,1]\n",
    "duplicate = FindDuplicate()\n",
    "print(duplicate.check_duplicate(case1))\n",
    "case2 = [1,2,3,4,5]\n",
    "print(duplicate.check_duplicate(case2))"
   ]
  },
  {
   "cell_type": "code",
   "execution_count": null,
   "id": "a33d7b9e-30c0-4845-9c3d-90f2f78a0521",
   "metadata": {},
   "outputs": [],
   "source": []
  },
  {
   "cell_type": "code",
   "execution_count": null,
   "id": "a31399ce-02ff-4396-adc7-7d163b485049",
   "metadata": {},
   "outputs": [],
   "source": []
  },
  {
   "cell_type": "markdown",
   "id": "149099be-1422-4fef-8251-60ccbdf0b99c",
   "metadata": {},
   "source": [
    "**Valid Anagram**\n",
    "<Br>Given two strings s and t, return true if t is an anagram of s, and false otherwise.<Br>\n",
    "\n",
    "An Anagram is a word or phrase formed by rearranging the letters of a different word or phrase, typically using all the original letters exactly once.<Br>\n",
    "\n",
    " \n",
    "\n",
    "Example 1:<Br>\n",
    "\n",
    "Input: s = \"anagram\", t = \"nagaram\"<Br>\n",
    "Output: true<Br>\n",
    "Example 2:<Br>\n",
    "\n",
    "Input: s = \"rat\", t = \"car\"<Br>\n",
    "Output: false<Br>\n",
    " \n",
    "\n",
    "Constraints:<Br>\n",
    "\n",
    "1 <= s.length, t.length <= 5 * 104<Br>\n",
    "s and t consist of lowercase English letters.<Br>\n",
    " \n",
    "\n",
    "Follow up: What if the inputs contain Unicode characters? How would you adapt your solution to such a case?"
   ]
  },
  {
   "cell_type": "code",
   "execution_count": 15,
   "id": "589c7fc7-a997-472f-bf53-106804d6aa62",
   "metadata": {},
   "outputs": [],
   "source": [
    "#method 1\n",
    "class Anagram:\n",
    "    def check_anagram(self, s:str, t:str) ->bool:\n",
    "        if len(s)!= len(t):\n",
    "            return False\n",
    "        count_w1 = {}\n",
    "        count_w2 = {}\n",
    "        for i in range(len(s)):\n",
    "            count_w1[s[i]] = 1 + count_w1.get(s[i],0)\n",
    "            count_w2[t[i]] = 1 + count_w2.get(t[i],0)\n",
    "\n",
    "        for item in count_w1:\n",
    "            if count_w1[item] != count_w2.get(item,0):\n",
    "                return False\n",
    "\n",
    "        return True"
   ]
  },
  {
   "cell_type": "code",
   "execution_count": null,
   "id": "83bf1687-6042-40f4-9cd3-3fd7320f2144",
   "metadata": {},
   "outputs": [],
   "source": []
  },
  {
   "cell_type": "code",
   "execution_count": 16,
   "id": "7e0a99b4-fce2-425d-9d30-d1a8f85a6ca9",
   "metadata": {},
   "outputs": [
    {
     "name": "stdout",
     "output_type": "stream",
     "text": [
      "True\n",
      "False\n"
     ]
    }
   ],
   "source": [
    "anagram_obj = Anagram()\n",
    "#case1\n",
    "s = \"anagram\"\n",
    "t = \"nagaram\"\n",
    "print(anagram_obj.check_anagram(s,t))\n",
    "#case2\n",
    "s = \"rat\"\n",
    "t = \"car\"\n",
    "print(anagram_obj.check_anagram(s,t))"
   ]
  },
  {
   "cell_type": "code",
   "execution_count": 19,
   "id": "acc1f0e9-2155-4a99-8901-a468a8cc4afa",
   "metadata": {},
   "outputs": [],
   "source": [
    "#method2\n",
    "class Anagram:\n",
    "    @staticmethod\n",
    "    def check_anagram(s: str, t: str) -> bool:\n",
    "        if len(s) != len(t):\n",
    "            return False\n",
    "        s_freq = {}\n",
    "        t_freq = {}\n",
    "\n",
    "        for char in s:\n",
    "            s_freq[char] = s_freq.get(char, 0) + 1\n",
    "\n",
    "        for char in t:\n",
    "            t_freq[char] = t_freq.get(char, 0) + 1\n",
    "\n",
    "        return s_freq == t_freq\n"
   ]
  },
  {
   "cell_type": "code",
   "execution_count": 20,
   "id": "19f9013a-0cd8-4f6c-af1a-400d1b3abb97",
   "metadata": {},
   "outputs": [
    {
     "name": "stdout",
     "output_type": "stream",
     "text": [
      "True\n",
      "False\n"
     ]
    }
   ],
   "source": [
    "anagram_obj = Anagram()\n",
    "#case1\n",
    "s = \"anagram\"\n",
    "t = \"nagaram\"\n",
    "print(anagram_obj.check_anagram(s,t))\n",
    "#case2\n",
    "s = \"rat\"\n",
    "t = \"car\"\n",
    "print(anagram_obj.check_anagram(s,t))"
   ]
  },
  {
   "cell_type": "code",
   "execution_count": null,
   "id": "d7a0c6fb-ef34-45f3-90fa-ba49fa759f9a",
   "metadata": {},
   "outputs": [],
   "source": []
  },
  {
   "cell_type": "markdown",
   "id": "6012e4e8-0074-4a35-9a68-cee139ccb93a",
   "metadata": {},
   "source": [
    "**Two Sum**\n",
    "<Br>\n",
    "Easy\n",
    "51K\n",
    "1.6K\n",
    "Companies\n",
    "Given an array of integers nums and an integer target, return indices of the two numbers such that they add up to target.\n",
    "\n",
    "You may assume that each input would have exactly one solution, and you may not use the same element twice.\n",
    "\n",
    "You can return the answer in any order.\n",
    "\n",
    " \n",
    "\n",
    "Example 1:\n",
    "\n",
    "Input: nums = [2,7,11,15], target = 9\n",
    "Output: [0,1]\n",
    "Explanation: Because nums[0] + nums[1] == 9, we return [0, 1].<Br>\n",
    "Example 2:\n",
    "\n",
    "Input: nums = [3,2,4], target = 6\n",
    "Output: [1,2]<Br>\n",
    "Example 3:\n",
    "\n",
    "Input: nums = [3,3], target = 6\n",
    "Output: [0,1]\n",
    " \n",
    "\n",
    "Constraints:\n",
    "\n",
    "2 <= nums.length <= 104\n",
    "-109 <= nums[i] <= 109\n",
    "-109 <= target <= 109\n",
    "Only one valid answer exists."
   ]
  },
  {
   "cell_type": "code",
   "execution_count": 13,
   "id": "9e8f1148-c09a-4ba4-9919-e0bb51289d02",
   "metadata": {},
   "outputs": [],
   "source": [
    "from typing import List, Optional\n",
    "\n",
    "class TwoSum:\n",
    "    \n",
    "    def check_sum(self, nums: List[int], target: int)-> Optional[List[int]]:\n",
    "        prev_hashmap = {}\n",
    "        for idx, num in enumerate(nums):\n",
    "            diff = target - num\n",
    "            if diff in prev_hashmap:\n",
    "                return [prev_hashmap[diff], idx]\n",
    "            prev_hashmap[num] = idx\n",
    "            \n",
    "        return None\n",
    "            "
   ]
  },
  {
   "cell_type": "code",
   "execution_count": 14,
   "id": "7ea050de-b743-4a61-969a-64a0df9b9803",
   "metadata": {},
   "outputs": [
    {
     "name": "stdout",
     "output_type": "stream",
     "text": [
      "[0, 1]\n",
      "[1, 2]\n",
      "[0, 1]\n"
     ]
    }
   ],
   "source": [
    "two_sum_obj = TwoSum()\n",
    "index = two_sum_obj.check_sum([2,7,11,15],9)\n",
    "print(index)\n",
    "index = two_sum_obj.check_sum([3,2,4],6)\n",
    "print(index)\n",
    "index = two_sum_obj.check_sum([3,3],6)\n",
    "print(index)"
   ]
  },
  {
   "cell_type": "markdown",
   "id": "e42a0de5-c655-4804-b545-f9f7dffcf328",
   "metadata": {},
   "source": [
    "**Group Anagram**\n",
    "<Br>Given an array of strings strs, group the anagrams together. You can return the answer in any order.\n",
    "\n",
    "An Anagram is a word or phrase formed by rearranging the letters of a different word or phrase, typically using all the original letters exactly once.\n",
    "\n",
    " \n",
    "\n",
    "Example 1:\n",
    "\n",
    "Input: strs = [\"eat\",\"tea\",\"tan\",\"ate\",\"nat\",\"bat\"]\n",
    "Output: [[\"bat\"],[\"nat\",\"tan\"],[\"ate\",\"eat\",\"tea\"]]\n",
    "Example 2:\n",
    "\n",
    "Input: strs = [\"\"]\n",
    "Output: [[\"\"]]\n",
    "Example 3:\n",
    "\n",
    "Input: strs = [\"a\"]\n",
    "Output: [[\"a\"]]\n"
   ]
  },
  {
   "cell_type": "code",
   "execution_count": 1,
   "id": "64242e0f-1850-4ae8-ac71-2ca9936976ec",
   "metadata": {},
   "outputs": [],
   "source": [
    "from typing import List\n",
    "from collections import defaultdict"
   ]
  },
  {
   "cell_type": "code",
   "execution_count": 65,
   "id": "985afd5b-9432-4755-baed-b0d86aaf2fb0",
   "metadata": {},
   "outputs": [],
   "source": [
    "class GroupAnagram:\n",
    "    def group_anagram(self, strs: List[str])-> List[List[str]]:\n",
    "        res = defaultdict(list)\n",
    "        for s in strs:\n",
    "            count  = [0] * 26\n",
    "            for c in s:\n",
    "                count[ord(c) - ord(\"a\")] += 1 \n",
    "            res[tuple(count)].append(s)\n",
    "\n",
    "        return res.values()"
   ]
  },
  {
   "cell_type": "code",
   "execution_count": 66,
   "id": "a90ae1bf-48e9-46f1-9116-852b782b748a",
   "metadata": {},
   "outputs": [
    {
     "name": "stdout",
     "output_type": "stream",
     "text": [
      "dict_values([['eat', 'tea', 'ate'], ['tan', 'nat'], ['bat']])\n"
     ]
    }
   ],
   "source": [
    "strs = [\"eat\",\"tea\",\"tan\",\"ate\",\"nat\",\"bat\"] \n",
    "group_anagram_obj = GroupAnagram()\n",
    "print(group_anagram_obj.group_anagram(strs))"
   ]
  },
  {
   "cell_type": "code",
   "execution_count": 128,
   "id": "07d35ab9-cf85-45c6-8982-524126f5797b",
   "metadata": {},
   "outputs": [],
   "source": [
    "class GroupAnagrams:\n",
    "    def group_anagrams(self, strs):\n",
    "        # Dictionary to store grouped words\n",
    "        anagrams = {}\n",
    "        \n",
    "        for word in strs:\n",
    "            # Use sorted word as the key\n",
    "            sorted_word = ''.join(sorted(word))\n",
    "            \n",
    "            # If key exists, append the word to the list, else create a new list\n",
    "            if sorted_word in anagrams:\n",
    "                anagrams[sorted_word].append(word)\n",
    "            else:\n",
    "                anagrams[sorted_word] = [word]\n",
    "        \n",
    "        # Return the grouped anagrams\n",
    "        return list(anagrams.values())"
   ]
  },
  {
   "cell_type": "code",
   "execution_count": 129,
   "id": "ff9e1c7f-ed11-436a-8755-09c8de650ef1",
   "metadata": {},
   "outputs": [
    {
     "name": "stdout",
     "output_type": "stream",
     "text": [
      "[['eat', 'tea', 'ate'], ['tan', 'nat'], ['bat']]\n"
     ]
    }
   ],
   "source": [
    "strs = [\"eat\",\"tea\",\"tan\",\"ate\",\"nat\",\"bat\"] \n",
    "group_anagram_obj = GroupAnagrams()\n",
    "print(group_anagram_obj.group_anagrams(strs))"
   ]
  },
  {
   "cell_type": "code",
   "execution_count": null,
   "id": "37a57c7a-d36f-4d39-ae7b-f72a3f546c17",
   "metadata": {},
   "outputs": [],
   "source": [
    "\n"
   ]
  },
  {
   "cell_type": "markdown",
   "id": "79f05d1c-ed71-44b7-b7d5-d1cb2616b219",
   "metadata": {},
   "source": [
    "**Top K FrequentElements**\n",
    "<Br>Given an integer array nums and an integer k, return the k most frequent elements. You may return the answer in any order.\n",
    "\n",
    "Example 1:\n",
    "\n",
    "Input: nums = [1,1,1,2,2,3], k = 2\n",
    "Output: [1,2]\n",
    "Example 2:\n",
    "\n",
    "Input: nums = [1], k = 1\n",
    "Output: [1]\n",
    " \n",
    "\n",
    "Constraints:\n",
    "\n",
    "1 <= nums.length <= 105\n",
    "-104 <= nums[i] <= 104\n",
    "k is in the range [1, the number of unique elements in the array].\n",
    "It is guaranteed that the answer is unique."
   ]
  },
  {
   "cell_type": "code",
   "execution_count": 35,
   "id": "6e6eb496-26a4-4c37-a61a-f2ea887a7c59",
   "metadata": {},
   "outputs": [],
   "source": [
    "class FrequentElements:\n",
    "    def get_grequent_elements(self, nums: List[int],k: int)->List[int]:\n",
    "        count = {}\n",
    "        freq = [[] for i in range(len(nums) + 1)]\n",
    "\n",
    "        for n in nums:\n",
    "            count[n] = 1 + count.get(n,0)\n",
    "        for n,c in count.items():\n",
    "            freq[c].append(n)\n",
    "\n",
    "        res = []\n",
    "        print(freq)\n",
    "        for i in range(len(freq) -1, 0, -1):\n",
    "            print(freq[i])\n",
    "            for n in freq[i]:\n",
    "                print(n)\n",
    "                res.append(n)\n",
    "                if len(res) == k:\n",
    "                    return res\n",
    "                    \n",
    "        "
   ]
  },
  {
   "cell_type": "code",
   "execution_count": 36,
   "id": "5e561eb4-0951-4b2b-94f6-7b27eaa27f8a",
   "metadata": {},
   "outputs": [
    {
     "name": "stdout",
     "output_type": "stream",
     "text": [
      "[[], [4], [1, 2], [5], [], [3], [], [], [], [], [], [], [], []]\n",
      "[]\n",
      "[]\n",
      "[]\n",
      "[]\n",
      "[]\n",
      "[]\n",
      "[]\n",
      "[]\n",
      "[3]\n",
      "3\n",
      "[]\n",
      "[5]\n",
      "5\n",
      "[3, 5]\n"
     ]
    }
   ],
   "source": [
    "nums = [1,1,2,2,3,3,3,3,3,4,5,5,5]\n",
    "k = 2\n",
    "frequency_counter_obj = FrequentElements()\n",
    "res = frequency_counter_obj.get_grequent_elements(nums, k)\n",
    "print(res)"
   ]
  },
  {
   "cell_type": "code",
   "execution_count": null,
   "id": "72582ec6-d2e7-43fa-91d8-ae2d43ad4696",
   "metadata": {},
   "outputs": [],
   "source": []
  },
  {
   "cell_type": "markdown",
   "id": "4ccf3a1e-a05a-4a47-854e-a9f03d28fde5",
   "metadata": {},
   "source": [
    "**Product of Array Except Self**\n",
    "<Br>Given an integer array nums, return an array answer such that answer[i] is equal to the product of all the elements of nums except nums[i].\n",
    "\n",
    "The product of any prefix or suffix of nums is guaranteed to fit in a 32-bit integer.\n",
    "\n",
    "You must write an algorithm that runs in O(n) time and without using the division operation.\n",
    "\n",
    " \n",
    "\n",
    "Example 1:\n",
    "\n",
    "Input: nums = [1,2,3,4]\n",
    "Output: [24,12,8,6]\n",
    "Example 2:\n",
    "\n",
    "Input: nums = [-1,1,0,-3,3]\n",
    "Output: [0,0,9,0,0]\n",
    " \n",
    "\n",
    "Constraints:\n",
    "\n",
    "2 <= nums.length <= 105\n",
    "-30 <= nums[i] <= 30\n",
    "The product of any prefix or suffix of nums is guaranteed to fit in a 32-bit integer.\n",
    " \n",
    "\n",
    "Follow up: Can you solve the problem in O(1) extra space complexity? (The output array does not count as extra space for space complexity analysis.)"
   ]
  },
  {
   "cell_type": "code",
   "execution_count": 22,
   "id": "d99131bf-e106-4e3d-9496-23efcab157b1",
   "metadata": {},
   "outputs": [],
   "source": [
    "class ProductArrayExceptSelf:\n",
    "    def get_product_except_self(self, nums: List[int]) ->List[int]:\n",
    "        res = [1] * len(nums)\n",
    "        print(res)\n",
    "        prefix = 1\n",
    "        for i in range(len(nums)):\n",
    "            res[i] = prefix\n",
    "            prefix *= nums[i]\n",
    "        postfix = 1\n",
    "        for i in range(len(nums) - 1, -1, -1):\n",
    "            res[i] *= postfix\n",
    "            postfix *=nums[i]\n",
    "            print(res[i], postfix)\n",
    "\n",
    "        return res"
   ]
  },
  {
   "cell_type": "code",
   "execution_count": 23,
   "id": "e42d9042-e8d8-482d-a8a7-5f8b6dcdb5da",
   "metadata": {},
   "outputs": [
    {
     "name": "stdout",
     "output_type": "stream",
     "text": [
      "[1, 1, 1, 1]\n",
      "6 4\n",
      "8 12\n",
      "12 24\n",
      "24 24\n",
      "[24, 12, 8, 6]\n"
     ]
    }
   ],
   "source": [
    "nums = [1,2,3,4]\n",
    "product_array_obj = ProductArrayExceptSelf()\n",
    "res = product_array_obj.get_product_except_self(nums)\n",
    "print(res)"
   ]
  },
  {
   "cell_type": "markdown",
   "id": "739f486a-49a5-437d-8713-0df86bba8ea2",
   "metadata": {},
   "source": [
    "**Valid Sudoku**\n",
    "<Br>Determine if a 9 x 9 Sudoku board is valid. Only the filled cells need to be validated according to the following rules:\n",
    "\n",
    "Each row must contain the digits 1-9 without repetition.\n",
    "Each column must contain the digits 1-9 without repetition.\n",
    "Each of the nine 3 x 3 sub-boxes of the grid must contain the digits 1-9 without repetition.\n",
    "Note:\n",
    "\n",
    "A Sudoku board (partially filled) could be valid but is not necessarily solvable.\n",
    "Only the filled cells need to be validated according to the mentioned rules.\n"
   ]
  },
  {
   "cell_type": "code",
   "execution_count": 2,
   "id": "85d92a6d-8916-4943-8077-8eac2a6cb3ab",
   "metadata": {},
   "outputs": [],
   "source": [
    "class Sudoku:\n",
    "    def is_valid_sudoku(self, board:List[List[str]]) -> bool:\n",
    "        cols = defaultdict(set)\n",
    "        rows = defaultdict(set)\n",
    "        squares = defaultdict(set)\n",
    "\n",
    "        for r in range(9):\n",
    "            for c in range(9):\n",
    "                if  board[r][c] == '.':\n",
    "                    continue\n",
    "                if (board[r][c] in rows[r] or\n",
    "                   board[r][c] in cols[c] or\n",
    "                   board[r][c] in squares[(r//3,c//3)]):\n",
    "                    return False\n",
    "                cols[c].add(board[r][c])\n",
    "                rows[r].add(board[r][c])\n",
    "                squares[(r//3,c//3)].add(board[r][c])\n",
    "        return True"
   ]
  },
  {
   "cell_type": "code",
   "execution_count": 14,
   "id": "e66c5bee-3705-41ec-9771-3fb867c69362",
   "metadata": {},
   "outputs": [
    {
     "name": "stdout",
     "output_type": "stream",
     "text": [
      "True\n"
     ]
    }
   ],
   "source": [
    "board1 =[[\"5\",\"3\",\".\",\".\",\"7\",\".\",\".\",\".\",\".\"],[\"6\",\".\",\".\",\"1\",\"9\",\"5\",\".\",\".\",\".\"],[\".\",\"9\",\"8\",\".\",\".\",\".\",\".\",\"6\",\".\"],[\"8\",\".\",\".\",\".\",\"6\",\".\",\".\",\".\",\"3\"],[\"4\",\".\",\".\",\"8\",\".\",\"3\",\".\",\".\",\"1\"],[\"7\",\".\",\".\",\".\",\"2\",\".\",\".\",\".\",\"6\"],[\".\",\"6\",\".\",\".\",\".\",\".\",\"2\",\"8\",\".\"],[\".\",\".\",\".\",\"4\",\"1\",\"9\",\".\",\".\",\"5\"],[\".\",\".\",\".\",\".\",\"8\",\".\",\".\",\"7\",\"9\"]]\n",
    "sudoku_obj = Sudoku()\n",
    "res = sudoku_obj.is_valid_sudoku(board1)\n",
    "print(res)"
   ]
  },
  {
   "cell_type": "code",
   "execution_count": 17,
   "id": "e4233233-8bf6-477d-9e5b-fa3a6d62fc91",
   "metadata": {},
   "outputs": [
    {
     "name": "stdout",
     "output_type": "stream",
     "text": [
      "False\n"
     ]
    }
   ],
   "source": [
    "board2 = [[\"8\",\"3\",\".\",\".\",\"7\",\".\",\".\",\".\",\".\"],[\"6\",\".\",\".\",\"1\",\"9\",\"5\",\".\",\".\",\".\"],[\".\",\"9\",\"8\",\".\",\".\",\".\",\".\",\"6\",\".\"],[\"8\",\".\",\".\",\".\",\"6\",\".\",\".\",\".\",\"3\"],[\"4\",\".\",\".\",\"8\",\".\",\"3\",\".\",\".\",\"1\"],[\"7\",\".\",\".\",\".\",\"2\",\".\",\".\",\".\",\"6\"],[\".\",\"6\",\".\",\".\",\".\",\".\",\"2\",\"8\",\".\"],[\".\",\".\",\".\",\"4\",\"1\",\"9\",\".\",\".\",\"5\"],[\".\",\".\",\".\",\".\",\"8\",\".\",\".\",\"7\",\"9\"]]\n",
    "\n",
    "print(sudoku_obj.is_valid_sudoku(board2))"
   ]
  },
  {
   "cell_type": "code",
   "execution_count": null,
   "id": "9bef36b9-c3df-4f1b-bc8f-62d88e180b6a",
   "metadata": {},
   "outputs": [],
   "source": []
  },
  {
   "cell_type": "code",
   "execution_count": null,
   "id": "e5750ed4-9612-4557-9d1b-b71319107cf2",
   "metadata": {},
   "outputs": [],
   "source": []
  }
 ],
 "metadata": {
  "kernelspec": {
   "display_name": "Python 3 (ipykernel)",
   "language": "python",
   "name": "python3"
  },
  "language_info": {
   "codemirror_mode": {
    "name": "ipython",
    "version": 3
   },
   "file_extension": ".py",
   "mimetype": "text/x-python",
   "name": "python",
   "nbconvert_exporter": "python",
   "pygments_lexer": "ipython3",
   "version": "3.11.2"
  }
 },
 "nbformat": 4,
 "nbformat_minor": 5
}
