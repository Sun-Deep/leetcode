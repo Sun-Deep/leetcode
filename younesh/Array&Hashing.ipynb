{
 "cells": [
  {
   "cell_type": "markdown",
   "id": "c584242c-6dcf-4ebf-b39e-5316cf356e95",
   "metadata": {},
   "source": [
    "**Contains Duplicate**<br> Given an integer array nums, return true if any value appears at least twice in the array, and return false if every element is distinct.<br>\n",
    "**Example 1:**\n",
    "<br>\n",
    "Input: nums = [1,2,3,1]<br>\n",
    "Output: true<br>\n",
    "**Example 2:**\n",
    "<br>\n",
    "Input: nums = [1,2,3,4]<br>\n",
    "**Example 3:**\n",
    "<br>\n",
    "Input: nums = [1,1,1,3,3,4,3,2,4,2]<br>\n",
    "Output: true<br>\n",
    "**Constraints:** <br>\n",
    "1 <= nums.length <= 105<br>\n",
    "-109 <= nums[i] <= 109"
   ]
  },
  {
   "cell_type": "code",
   "execution_count": 1,
   "id": "6746cbd8-3a44-409b-8f6b-0ff9fba589c4",
   "metadata": {},
   "outputs": [],
   "source": [
    "class FindDuplicate:\n",
    "    def check_duplicate(self, list_of_integer):\n",
    "        temp_list = set()\n",
    "        for item in list_of_integer:\n",
    "            if item in temp_list:\n",
    "                return True\n",
    "            temp_list.add(item)\n",
    "        return False"
   ]
  },
  {
   "cell_type": "code",
   "execution_count": 8,
   "id": "62a7d45e-f871-4cd8-9a95-42d107c46f5a",
   "metadata": {},
   "outputs": [
    {
     "name": "stdout",
     "output_type": "stream",
     "text": [
      "True\n",
      "False\n"
     ]
    }
   ],
   "source": [
    "case1 = [1,2,3,4,1]\n",
    "duplicate = FindDuplicate()\n",
    "print(duplicate.check_duplicate(case1))\n",
    "case2 = [1,2,3,4,5]\n",
    "print(duplicate.check_duplicate(case2))"
   ]
  },
  {
   "cell_type": "code",
   "execution_count": null,
   "id": "a33d7b9e-30c0-4845-9c3d-90f2f78a0521",
   "metadata": {},
   "outputs": [],
   "source": []
  },
  {
   "cell_type": "code",
   "execution_count": null,
   "id": "a31399ce-02ff-4396-adc7-7d163b485049",
   "metadata": {},
   "outputs": [],
   "source": []
  },
  {
   "cell_type": "markdown",
   "id": "149099be-1422-4fef-8251-60ccbdf0b99c",
   "metadata": {},
   "source": [
    "**Valid Anagram**\n",
    "<Br>Given two strings s and t, return true if t is an anagram of s, and false otherwise.<Br>\n",
    "\n",
    "An Anagram is a word or phrase formed by rearranging the letters of a different word or phrase, typically using all the original letters exactly once.<Br>\n",
    "\n",
    " \n",
    "\n",
    "Example 1:<Br>\n",
    "\n",
    "Input: s = \"anagram\", t = \"nagaram\"<Br>\n",
    "Output: true<Br>\n",
    "Example 2:<Br>\n",
    "\n",
    "Input: s = \"rat\", t = \"car\"<Br>\n",
    "Output: false<Br>\n",
    " \n",
    "\n",
    "Constraints:<Br>\n",
    "\n",
    "1 <= s.length, t.length <= 5 * 104<Br>\n",
    "s and t consist of lowercase English letters.<Br>\n",
    " \n",
    "\n",
    "Follow up: What if the inputs contain Unicode characters? How would you adapt your solution to such a case?"
   ]
  },
  {
   "cell_type": "code",
   "execution_count": 15,
   "id": "589c7fc7-a997-472f-bf53-106804d6aa62",
   "metadata": {},
   "outputs": [],
   "source": [
    "#method 1\n",
    "class Anagram:\n",
    "    def check_anagram(self, s:str, t:str) ->bool:\n",
    "        if len(s)!= len(t):\n",
    "            return False\n",
    "        count_w1 = {}\n",
    "        count_w2 = {}\n",
    "        for i in range(len(s)):\n",
    "            count_w1[s[i]] = 1 + count_w1.get(s[i],0)\n",
    "            count_w2[t[i]] = 1 + count_w2.get(t[i],0)\n",
    "\n",
    "        for item in count_w1:\n",
    "            if count_w1[item] != count_w2.get(item,0):\n",
    "                return False\n",
    "\n",
    "        return True"
   ]
  },
  {
   "cell_type": "code",
   "execution_count": null,
   "id": "83bf1687-6042-40f4-9cd3-3fd7320f2144",
   "metadata": {},
   "outputs": [],
   "source": []
  },
  {
   "cell_type": "code",
   "execution_count": 16,
   "id": "7e0a99b4-fce2-425d-9d30-d1a8f85a6ca9",
   "metadata": {},
   "outputs": [
    {
     "name": "stdout",
     "output_type": "stream",
     "text": [
      "True\n",
      "False\n"
     ]
    }
   ],
   "source": [
    "anagram_obj = Anagram()\n",
    "#case1\n",
    "s = \"anagram\"\n",
    "t = \"nagaram\"\n",
    "print(anagram_obj.check_anagram(s,t))\n",
    "#case2\n",
    "s = \"rat\"\n",
    "t = \"car\"\n",
    "print(anagram_obj.check_anagram(s,t))"
   ]
  },
  {
   "cell_type": "code",
   "execution_count": 19,
   "id": "acc1f0e9-2155-4a99-8901-a468a8cc4afa",
   "metadata": {},
   "outputs": [],
   "source": [
    "#method2\n",
    "class Anagram:\n",
    "    @staticmethod\n",
    "    def check_anagram(s: str, t: str) -> bool:\n",
    "        if len(s) != len(t):\n",
    "            return False\n",
    "        s_freq = {}\n",
    "        t_freq = {}\n",
    "\n",
    "        for char in s:\n",
    "            s_freq[char] = s_freq.get(char, 0) + 1\n",
    "\n",
    "        for char in t:\n",
    "            t_freq[char] = t_freq.get(char, 0) + 1\n",
    "\n",
    "        return s_freq == t_freq\n"
   ]
  },
  {
   "cell_type": "code",
   "execution_count": 20,
   "id": "19f9013a-0cd8-4f6c-af1a-400d1b3abb97",
   "metadata": {},
   "outputs": [
    {
     "name": "stdout",
     "output_type": "stream",
     "text": [
      "True\n",
      "False\n"
     ]
    }
   ],
   "source": [
    "anagram_obj = Anagram()\n",
    "#case1\n",
    "s = \"anagram\"\n",
    "t = \"nagaram\"\n",
    "print(anagram_obj.check_anagram(s,t))\n",
    "#case2\n",
    "s = \"rat\"\n",
    "t = \"car\"\n",
    "print(anagram_obj.check_anagram(s,t))"
   ]
  },
  {
   "cell_type": "code",
   "execution_count": null,
   "id": "d7a0c6fb-ef34-45f3-90fa-ba49fa759f9a",
   "metadata": {},
   "outputs": [],
   "source": []
  },
  {
   "cell_type": "markdown",
   "id": "6012e4e8-0074-4a35-9a68-cee139ccb93a",
   "metadata": {},
   "source": [
    "**Two Sum**\n",
    "<Br>\n",
    "Easy\n",
    "51K\n",
    "1.6K\n",
    "Companies\n",
    "Given an array of integers nums and an integer target, return indices of the two numbers such that they add up to target.\n",
    "\n",
    "You may assume that each input would have exactly one solution, and you may not use the same element twice.\n",
    "\n",
    "You can return the answer in any order.\n",
    "\n",
    " \n",
    "\n",
    "Example 1:\n",
    "\n",
    "Input: nums = [2,7,11,15], target = 9\n",
    "Output: [0,1]\n",
    "Explanation: Because nums[0] + nums[1] == 9, we return [0, 1].<Br>\n",
    "Example 2:\n",
    "\n",
    "Input: nums = [3,2,4], target = 6\n",
    "Output: [1,2]<Br>\n",
    "Example 3:\n",
    "\n",
    "Input: nums = [3,3], target = 6\n",
    "Output: [0,1]\n",
    " \n",
    "\n",
    "Constraints:\n",
    "\n",
    "2 <= nums.length <= 104\n",
    "-109 <= nums[i] <= 109\n",
    "-109 <= target <= 109\n",
    "Only one valid answer exists."
   ]
  },
  {
   "cell_type": "code",
   "execution_count": 13,
   "id": "9e8f1148-c09a-4ba4-9919-e0bb51289d02",
   "metadata": {},
   "outputs": [],
   "source": [
    "from typing import List, Optional\n",
    "\n",
    "class TwoSum:\n",
    "    \n",
    "    def check_sum(self, nums: List[int], target: int)-> Optional[List[int]]:\n",
    "        prev_hashmap = {}\n",
    "        for idx, num in enumerate(nums):\n",
    "            diff = target - num\n",
    "            if diff in prev_hashmap:\n",
    "                return [prev_hashmap[diff], idx]\n",
    "            prev_hashmap[num] = idx\n",
    "            \n",
    "        return None\n",
    "            "
   ]
  },
  {
   "cell_type": "code",
   "execution_count": 14,
   "id": "7ea050de-b743-4a61-969a-64a0df9b9803",
   "metadata": {},
   "outputs": [
    {
     "name": "stdout",
     "output_type": "stream",
     "text": [
      "[0, 1]\n",
      "[1, 2]\n",
      "[0, 1]\n"
     ]
    }
   ],
   "source": [
    "two_sum_obj = TwoSum()\n",
    "index = two_sum_obj.check_sum([2,7,11,15],9)\n",
    "print(index)\n",
    "index = two_sum_obj.check_sum([3,2,4],6)\n",
    "print(index)\n",
    "index = two_sum_obj.check_sum([3,3],6)\n",
    "print(index)"
   ]
  },
  {
   "cell_type": "markdown",
   "id": "e42a0de5-c655-4804-b545-f9f7dffcf328",
   "metadata": {},
   "source": [
    "**G**\n",
    "<Br>Given an array of strings strs, group the anagrams together. You can return the answer in any order.\n",
    "\n",
    "An Anagram is a word or phrase formed by rearranging the letters of a different word or phrase, typically using all the original letters exactly once.\n",
    "\n",
    " \n",
    "\n",
    "Example 1:\n",
    "\n",
    "Input: strs = [\"eat\",\"tea\",\"tan\",\"ate\",\"nat\",\"bat\"]\n",
    "Output: [[\"bat\"],[\"nat\",\"tan\"],[\"ate\",\"eat\",\"tea\"]]\n",
    "Example 2:\n",
    "\n",
    "Input: strs = [\"\"]\n",
    "Output: [[\"\"]]\n",
    "Example 3:\n",
    "\n",
    "Input: strs = [\"a\"]\n",
    "Output: [[\"a\"]]\n"
   ]
  },
  {
   "cell_type": "code",
   "execution_count": 17,
   "id": "64242e0f-1850-4ae8-ac71-2ca9936976ec",
   "metadata": {},
   "outputs": [],
   "source": [
    "from typing import List\n",
    "from collections import defaultdict"
   ]
  },
  {
   "cell_type": "code",
   "execution_count": 65,
   "id": "985afd5b-9432-4755-baed-b0d86aaf2fb0",
   "metadata": {},
   "outputs": [],
   "source": [
    "class GroupAnagram:\n",
    "    def group_anagram(self, strs: List[str])-> List[List[str]]:\n",
    "        res = defaultdict(list)\n",
    "        for s in strs:\n",
    "            count  = [0] * 26\n",
    "            for c in s:\n",
    "                count[ord(c) - ord(\"a\")] += 1 \n",
    "            res[tuple(count)].append(s)\n",
    "\n",
    "        return res.values()"
   ]
  },
  {
   "cell_type": "code",
   "execution_count": 66,
   "id": "a90ae1bf-48e9-46f1-9116-852b782b748a",
   "metadata": {},
   "outputs": [
    {
     "name": "stdout",
     "output_type": "stream",
     "text": [
      "dict_values([['eat', 'tea', 'ate'], ['tan', 'nat'], ['bat']])\n"
     ]
    }
   ],
   "source": [
    "strs = [\"eat\",\"tea\",\"tan\",\"ate\",\"nat\",\"bat\"] \n",
    "group_anagram_obj = GroupAnagram()\n",
    "print(group_anagram_obj.group_anagram(strs))"
   ]
  },
  {
   "cell_type": "code",
   "execution_count": 128,
   "id": "07d35ab9-cf85-45c6-8982-524126f5797b",
   "metadata": {},
   "outputs": [],
   "source": [
    "class GroupAnagrams:\n",
    "    def group_anagrams(self, strs):\n",
    "        # Dictionary to store grouped words\n",
    "        anagrams = {}\n",
    "        \n",
    "        for word in strs:\n",
    "            # Use sorted word as the key\n",
    "            sorted_word = ''.join(sorted(word))\n",
    "            \n",
    "            # If key exists, append the word to the list, else create a new list\n",
    "            if sorted_word in anagrams:\n",
    "                anagrams[sorted_word].append(word)\n",
    "            else:\n",
    "                anagrams[sorted_word] = [word]\n",
    "        \n",
    "        # Return the grouped anagrams\n",
    "        return list(anagrams.values())"
   ]
  },
  {
   "cell_type": "code",
   "execution_count": 129,
   "id": "ff9e1c7f-ed11-436a-8755-09c8de650ef1",
   "metadata": {},
   "outputs": [
    {
     "name": "stdout",
     "output_type": "stream",
     "text": [
      "[['eat', 'tea', 'ate'], ['tan', 'nat'], ['bat']]\n"
     ]
    }
   ],
   "source": [
    "strs = [\"eat\",\"tea\",\"tan\",\"ate\",\"nat\",\"bat\"] \n",
    "group_anagram_obj = GroupAnagrams()\n",
    "print(group_anagram_obj.group_anagrams(strs))"
   ]
  },
  {
   "cell_type": "code",
   "execution_count": null,
   "id": "37a57c7a-d36f-4d39-ae7b-f72a3f546c17",
   "metadata": {},
   "outputs": [],
   "source": [
    "\n"
   ]
  },
  {
   "cell_type": "code",
   "execution_count": null,
   "id": "2257e579-394f-4125-b727-6095f04df379",
   "metadata": {},
   "outputs": [],
   "source": []
  },
  {
   "cell_type": "code",
   "execution_count": null,
   "id": "6e6eb496-26a4-4c37-a61a-f2ea887a7c59",
   "metadata": {},
   "outputs": [],
   "source": []
  },
  {
   "cell_type": "code",
   "execution_count": null,
   "id": "5e561eb4-0951-4b2b-94f6-7b27eaa27f8a",
   "metadata": {},
   "outputs": [],
   "source": []
  },
  {
   "cell_type": "code",
   "execution_count": null,
   "id": "72582ec6-d2e7-43fa-91d8-ae2d43ad4696",
   "metadata": {},
   "outputs": [],
   "source": []
  },
  {
   "cell_type": "code",
   "execution_count": null,
   "id": "6709c474-b8eb-4436-a09c-b61530cc986c",
   "metadata": {},
   "outputs": [],
   "source": []
  },
  {
   "cell_type": "code",
   "execution_count": null,
   "id": "d99131bf-e106-4e3d-9496-23efcab157b1",
   "metadata": {},
   "outputs": [],
   "source": []
  },
  {
   "cell_type": "code",
   "execution_count": null,
   "id": "e5750ed4-9612-4557-9d1b-b71319107cf2",
   "metadata": {},
   "outputs": [],
   "source": []
  }
 ],
 "metadata": {
  "kernelspec": {
   "display_name": "Python 3 (ipykernel)",
   "language": "python",
   "name": "python3"
  },
  "language_info": {
   "codemirror_mode": {
    "name": "ipython",
    "version": 3
   },
   "file_extension": ".py",
   "mimetype": "text/x-python",
   "name": "python",
   "nbconvert_exporter": "python",
   "pygments_lexer": "ipython3",
   "version": "3.11.2"
  }
 },
 "nbformat": 4,
 "nbformat_minor": 5
}
