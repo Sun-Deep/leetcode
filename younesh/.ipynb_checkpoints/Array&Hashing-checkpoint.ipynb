{
 "cells": [
  {
   "cell_type": "markdown",
   "id": "c584242c-6dcf-4ebf-b39e-5316cf356e95",
   "metadata": {},
   "source": [
    "**Contains Duplicate**<br> Given an integer array nums, return true if any value appears at least twice in the array, and return false if every element is distinct.<br><br>\n",
    "**Example 1:**\n",
    "<br>\n",
    "Input: nums = [1,2,3,1]<br>\n",
    "Output: true<br>\n",
    "**Example 2:**\n",
    "<br>\n",
    "Input: nums = [1,2,3,4]<br>\n",
    "**Example 3:**\n",
    "<br>\n",
    "Input: nums = [1,1,1,3,3,4,3,2,4,2]<br>\n",
    "Output: true<br>\n",
    "**Constraints:** <br>\n",
    "1 <= nums.length <= 105<br>\n",
    "-109 <= nums[i] <= 109"
   ]
  },
  {
   "cell_type": "code",
   "execution_count": 23,
   "id": "6746cbd8-3a44-409b-8f6b-0ff9fba589c4",
   "metadata": {},
   "outputs": [],
   "source": [
    "class FindDuplicate:\n",
    "    def check_duplicate(self, list_of_integer):\n",
    "        temp_list = set()\n",
    "        for item in list_of_integer:\n",
    "            if item in temp_list:\n",
    "                return True\n",
    "            temp_list.add(item)\n",
    "        return False"
   ]
  },
  {
   "cell_type": "code",
   "execution_count": 17,
   "id": "4de8f501-d123-424a-bc91-e528078f2c9e",
   "metadata": {},
   "outputs": [
    {
     "name": "stdout",
     "output_type": "stream",
     "text": [
      "True\n",
      "None\n"
     ]
    }
   ],
   "source": [
    "case1 = [1,2,3,4,5]\n",
    "duplicate = FindDuplicate()\n",
    "print(duplicate.check_duplicate(case1))\n",
    "case2 = [1,2,3,4,5]\n",
    "print(duplicate.check_duplicate(case2))\n"
   ]
  }
 ],
 "metadata": {
  "kernelspec": {
   "display_name": "Python 3 (ipykernel)",
   "language": "python",
   "name": "python3"
  },
  "language_info": {
   "codemirror_mode": {
    "name": "ipython",
    "version": 3
   },
   "file_extension": ".py",
   "mimetype": "text/x-python",
   "name": "python",
   "nbconvert_exporter": "python",
   "pygments_lexer": "ipython3",
   "version": "3.11.2"
  }
 },
 "nbformat": 4,
 "nbformat_minor": 5
}
